{
 "cells": [
  {
   "cell_type": "markdown",
   "metadata": {},
   "source": [
    "# CE5.2: SentenceBERT and Co. - School Solution"
   ]
  },
  {
   "cell_type": "markdown",
   "metadata": {
    "id": "eOzAKFdbUmyP"
   },
   "source": [
    "This notebook will demonstrate basic *semantic search* using sentence embeddings pre-trained for this purpose."
   ]
  },
  {
   "cell_type": "markdown",
   "metadata": {
    "id": "oedDvAy3M4jd"
   },
   "source": [
    "**Sentence-BERT: Sentence Embeddings using Siamese BERT-Networks**\n",
    "\n",
    "[The SentenceTranformers Python package home](https://sbert.net/)\n",
    "\n",
    "[The SentenceTranformers GitHub](https://github.com/UKPLab/sentence-transformers)\n",
    "\n",
    "[The SentenceBERT paper](https://arxiv.org/pdf/1908.10084.pdf)\n"
   ]
  },
  {
   "cell_type": "markdown",
   "metadata": {},
   "source": [
    "The models we'll examine were first fine-tuned on the AllNLI dataset, then on train set of STS benchmark. They are specifically well suited for semantic textual similarity. For more details, see: sts-models.md.\n",
    "\n",
    "**Pretrained Models:**\n",
    "\n",
    "bert-base-nli-stsb-mean-tokens: Performance: STSbenchmark: 85.14\n",
    "\n",
    "bert-large-nli-stsb-mean-tokens: Performance: STSbenchmark: 85.29\n",
    "\n",
    "roberta-base-nli-stsb-mean-tokens: Performance: STSbenchmark: 85.44 \n",
    "\n",
    "roberta-large-nli-stsb-mean-tokens: Performance: STSbenchmark: 86.39 \n",
    "\n",
    "distilbert-base-nli-stsb-mean-tokens: Performance: STSbenchmark: 84.38 "
   ]
  },
  {
   "cell_type": "markdown",
   "metadata": {
    "id": "0xHlXt5zMveR"
   },
   "source": [
    "## 1. Installation & Imports"
   ]
  },
  {
   "cell_type": "code",
   "execution_count": 1,
   "metadata": {
    "colab": {
     "base_uri": "https://localhost:8080/",
     "height": 487
    },
    "id": "Oj9GjZZIMwPB",
    "outputId": "78506d46-f7aa-418c-8c71-333283a01c14"
   },
   "outputs": [],
   "source": [
    "# !pip install -U sentence-transformers"
   ]
  },
  {
   "cell_type": "code",
   "execution_count": 6,
   "metadata": {},
   "outputs": [],
   "source": [
    "from sentence_transformers import SentenceTransformer"
   ]
  },
  {
   "cell_type": "markdown",
   "metadata": {},
   "source": [
    "## 2. A Toy Dataset"
   ]
  },
  {
   "cell_type": "code",
   "execution_count": 7,
   "metadata": {
    "id": "ulMBhMRxMjNC"
   },
   "outputs": [],
   "source": [
    "sentences = ['Absence of sanity',\n",
    "             'Lack of saneness',\n",
    "             'A man is eating food.',\n",
    "             'A man is eating a piece of bread.',\n",
    "             'The girl is carrying a baby.',\n",
    "             'A man is riding a horse.',\n",
    "             'A woman is playing violin.',\n",
    "             'Two men pushed carts through the woods.',\n",
    "             'A man is riding a white horse on an enclosed ground.',\n",
    "             'A monkey is playing drums.',\n",
    "             'A cheetah is running behind its prey.']"
   ]
  },
  {
   "cell_type": "markdown",
   "metadata": {
    "id": "twn5-N6YNtFc"
   },
   "source": [
    "## 3. Loading the model"
   ]
  },
  {
   "cell_type": "code",
   "execution_count": 3,
   "metadata": {},
   "outputs": [],
   "source": [
    "import os\n",
    "os.environ[\"CUDA_VISIBLE_DEVICES\"] = \"\""
   ]
  },
  {
   "cell_type": "code",
   "execution_count": 4,
   "metadata": {},
   "outputs": [
    {
     "name": "stderr",
     "output_type": "stream",
     "text": [
      "/var/folders/2q/pxh7dn6s1nq4fb8hw_x4lqd80000gn/T/ipykernel_32626/3599268852.py:2: UserWarning: 'has_mps' is deprecated, please use 'torch.backends.mps.is_built()'\n",
      "  torch.has_mps\n"
     ]
    },
    {
     "data": {
      "text/plain": [
       "True"
      ]
     },
     "execution_count": 4,
     "metadata": {},
     "output_type": "execute_result"
    }
   ],
   "source": [
    "import torch\n",
    "torch.has_mps"
   ]
  },
  {
   "cell_type": "code",
   "execution_count": 5,
   "metadata": {
    "id": "yx6BoYDXNfSW"
   },
   "outputs": [
    {
     "data": {
      "application/json": {
       "ascii": false,
       "bar_format": null,
       "colour": null,
       "elapsed": 0.03410005569458008,
       "initial": 0,
       "n": 0,
       "ncols": null,
       "nrows": 43,
       "postfix": null,
       "prefix": "modules.json",
       "rate": null,
       "total": 229,
       "unit": "B",
       "unit_divisor": 1000,
       "unit_scale": true
      },
      "application/vnd.jupyter.widget-view+json": {
       "model_id": "eeeb4b4a4787428cb455ddef6526002b",
       "version_major": 2,
       "version_minor": 0
      },
      "text/plain": [
       "modules.json:   0%|          | 0.00/229 [00:00<?, ?B/s]"
      ]
     },
     "metadata": {},
     "output_type": "display_data"
    },
    {
     "data": {
      "application/json": {
       "ascii": false,
       "bar_format": null,
       "colour": null,
       "elapsed": 0.013729095458984375,
       "initial": 0,
       "n": 0,
       "ncols": null,
       "nrows": 43,
       "postfix": null,
       "prefix": "config_sentence_transformers.json",
       "rate": null,
       "total": 122,
       "unit": "B",
       "unit_divisor": 1000,
       "unit_scale": true
      },
      "application/vnd.jupyter.widget-view+json": {
       "model_id": "4169f945a59b4f2a9c0f810c908b9e4d",
       "version_major": 2,
       "version_minor": 0
      },
      "text/plain": [
       "config_sentence_transformers.json:   0%|          | 0.00/122 [00:00<?, ?B/s]"
      ]
     },
     "metadata": {},
     "output_type": "display_data"
    },
    {
     "data": {
      "application/json": {
       "ascii": false,
       "bar_format": null,
       "colour": null,
       "elapsed": 0.009585857391357422,
       "initial": 0,
       "n": 0,
       "ncols": null,
       "nrows": 43,
       "postfix": null,
       "prefix": "README.md",
       "rate": null,
       "total": 3987,
       "unit": "B",
       "unit_divisor": 1000,
       "unit_scale": true
      },
      "application/vnd.jupyter.widget-view+json": {
       "model_id": "f8dcd6fe322f4baca331134b869c00ae",
       "version_major": 2,
       "version_minor": 0
      },
      "text/plain": [
       "README.md:   0%|          | 0.00/3.99k [00:00<?, ?B/s]"
      ]
     },
     "metadata": {},
     "output_type": "display_data"
    },
    {
     "data": {
      "application/json": {
       "ascii": false,
       "bar_format": null,
       "colour": null,
       "elapsed": 0.011869192123413086,
       "initial": 0,
       "n": 0,
       "ncols": null,
       "nrows": 43,
       "postfix": null,
       "prefix": "sentence_bert_config.json",
       "rate": null,
       "total": 53,
       "unit": "B",
       "unit_divisor": 1000,
       "unit_scale": true
      },
      "application/vnd.jupyter.widget-view+json": {
       "model_id": "7253e0d9f4e044cc944850bd6c047b6a",
       "version_major": 2,
       "version_minor": 0
      },
      "text/plain": [
       "sentence_bert_config.json:   0%|          | 0.00/53.0 [00:00<?, ?B/s]"
      ]
     },
     "metadata": {},
     "output_type": "display_data"
    },
    {
     "data": {
      "application/json": {
       "ascii": false,
       "bar_format": null,
       "colour": null,
       "elapsed": 0.012384176254272461,
       "initial": 0,
       "n": 0,
       "ncols": null,
       "nrows": 43,
       "postfix": null,
       "prefix": "config.json",
       "rate": null,
       "total": 625,
       "unit": "B",
       "unit_divisor": 1000,
       "unit_scale": true
      },
      "application/vnd.jupyter.widget-view+json": {
       "model_id": "ca6fc8d5e91b445eb9dd0088134ea8e9",
       "version_major": 2,
       "version_minor": 0
      },
      "text/plain": [
       "config.json:   0%|          | 0.00/625 [00:00<?, ?B/s]"
      ]
     },
     "metadata": {},
     "output_type": "display_data"
    },
    {
     "data": {
      "application/json": {
       "ascii": false,
       "bar_format": null,
       "colour": null,
       "elapsed": 0.014886856079101562,
       "initial": 0,
       "n": 0,
       "ncols": null,
       "nrows": 43,
       "postfix": null,
       "prefix": "model.safetensors",
       "rate": null,
       "total": 437955512,
       "unit": "B",
       "unit_divisor": 1000,
       "unit_scale": true
      },
      "application/vnd.jupyter.widget-view+json": {
       "model_id": "2025dda4980e4989a261a008fccb14ce",
       "version_major": 2,
       "version_minor": 0
      },
      "text/plain": [
       "model.safetensors:   0%|          | 0.00/438M [00:00<?, ?B/s]"
      ]
     },
     "metadata": {},
     "output_type": "display_data"
    },
    {
     "data": {
      "application/json": {
       "ascii": false,
       "bar_format": null,
       "colour": null,
       "elapsed": 0.016471147537231445,
       "initial": 0,
       "n": 0,
       "ncols": null,
       "nrows": 43,
       "postfix": null,
       "prefix": "tokenizer_config.json",
       "rate": null,
       "total": 399,
       "unit": "B",
       "unit_divisor": 1000,
       "unit_scale": true
      },
      "application/vnd.jupyter.widget-view+json": {
       "model_id": "5abb2ebac4be43e08d659d3efdf352eb",
       "version_major": 2,
       "version_minor": 0
      },
      "text/plain": [
       "tokenizer_config.json:   0%|          | 0.00/399 [00:00<?, ?B/s]"
      ]
     },
     "metadata": {},
     "output_type": "display_data"
    },
    {
     "data": {
      "application/json": {
       "ascii": false,
       "bar_format": null,
       "colour": null,
       "elapsed": 0.00902104377746582,
       "initial": 0,
       "n": 0,
       "ncols": null,
       "nrows": 43,
       "postfix": null,
       "prefix": "vocab.txt",
       "rate": null,
       "total": 231508,
       "unit": "B",
       "unit_divisor": 1000,
       "unit_scale": true
      },
      "application/vnd.jupyter.widget-view+json": {
       "model_id": "8399078220ee4787bdf76adcfc40a50d",
       "version_major": 2,
       "version_minor": 0
      },
      "text/plain": [
       "vocab.txt:   0%|          | 0.00/232k [00:00<?, ?B/s]"
      ]
     },
     "metadata": {},
     "output_type": "display_data"
    },
    {
     "data": {
      "application/json": {
       "ascii": false,
       "bar_format": null,
       "colour": null,
       "elapsed": 0.01208806037902832,
       "initial": 0,
       "n": 0,
       "ncols": null,
       "nrows": 43,
       "postfix": null,
       "prefix": "tokenizer.json",
       "rate": null,
       "total": 466081,
       "unit": "B",
       "unit_divisor": 1000,
       "unit_scale": true
      },
      "application/vnd.jupyter.widget-view+json": {
       "model_id": "9cee0bb5d88944238fb9cab34d4030b6",
       "version_major": 2,
       "version_minor": 0
      },
      "text/plain": [
       "tokenizer.json:   0%|          | 0.00/466k [00:00<?, ?B/s]"
      ]
     },
     "metadata": {},
     "output_type": "display_data"
    },
    {
     "data": {
      "application/json": {
       "ascii": false,
       "bar_format": null,
       "colour": null,
       "elapsed": 0.010708093643188477,
       "initial": 0,
       "n": 0,
       "ncols": null,
       "nrows": 43,
       "postfix": null,
       "prefix": "added_tokens.json",
       "rate": null,
       "total": 2,
       "unit": "B",
       "unit_divisor": 1000,
       "unit_scale": true
      },
      "application/vnd.jupyter.widget-view+json": {
       "model_id": "43dbe330733f4415946daec68a92eeaf",
       "version_major": 2,
       "version_minor": 0
      },
      "text/plain": [
       "added_tokens.json:   0%|          | 0.00/2.00 [00:00<?, ?B/s]"
      ]
     },
     "metadata": {},
     "output_type": "display_data"
    },
    {
     "data": {
      "application/json": {
       "ascii": false,
       "bar_format": null,
       "colour": null,
       "elapsed": 0.010797977447509766,
       "initial": 0,
       "n": 0,
       "ncols": null,
       "nrows": 43,
       "postfix": null,
       "prefix": "special_tokens_map.json",
       "rate": null,
       "total": 112,
       "unit": "B",
       "unit_divisor": 1000,
       "unit_scale": true
      },
      "application/vnd.jupyter.widget-view+json": {
       "model_id": "4d3cc323132d4cfab17d59f010019978",
       "version_major": 2,
       "version_minor": 0
      },
      "text/plain": [
       "special_tokens_map.json:   0%|          | 0.00/112 [00:00<?, ?B/s]"
      ]
     },
     "metadata": {},
     "output_type": "display_data"
    },
    {
     "data": {
      "application/json": {
       "ascii": false,
       "bar_format": null,
       "colour": null,
       "elapsed": 0.014593839645385742,
       "initial": 0,
       "n": 0,
       "ncols": null,
       "nrows": 43,
       "postfix": null,
       "prefix": "1_Pooling/config.json",
       "rate": null,
       "total": 190,
       "unit": "B",
       "unit_divisor": 1000,
       "unit_scale": true
      },
      "application/vnd.jupyter.widget-view+json": {
       "model_id": "c6159f71d9434dbbbfc29f65ab276098",
       "version_major": 2,
       "version_minor": 0
      },
      "text/plain": [
       "1_Pooling/config.json:   0%|          | 0.00/190 [00:00<?, ?B/s]"
      ]
     },
     "metadata": {},
     "output_type": "display_data"
    }
   ],
   "source": [
    "model = SentenceTransformer('bert-base-nli-mean-tokens')"
   ]
  },
  {
   "cell_type": "markdown",
   "metadata": {},
   "source": [
    "## 4. Embedding our datasets"
   ]
  },
  {
   "cell_type": "code",
   "execution_count": 19,
   "metadata": {
    "id": "QdwTSHbNOH2w"
   },
   "outputs": [],
   "source": [
    "sentence_embeddings_base = model.encode(sentences)"
   ]
  },
  {
   "cell_type": "code",
   "execution_count": 15,
   "metadata": {
    "colab": {
     "base_uri": "https://localhost:8080/",
     "height": 809
    },
    "id": "4ZhHjplkOcQM",
    "outputId": "46d4f14d-aea9-4734-b489-ef947b127772",
    "scrolled": true
   },
   "outputs": [
    {
     "name": "stdout",
     "output_type": "stream",
     "text": [
      "Sentence: Absence of sanity\n",
      "Embedding shape: (768,)\n",
      "Embedding: [ 0.29540247  0.29181156  2.1648014   0.22041972 -0.01308651  1.0195036\n",
      "  1.5129826   0.23413222  0.27305812  0.13512346 -1.1131338  -0.12588474\n",
      "  0.14537813  0.97770846  1.3935229   0.4577056  -0.582132   -0.7249414\n",
      " -0.3617342  -0.22751491] ...\n",
      "\n",
      "Sentence: Lack of saneness\n",
      "Embedding shape: (768,)\n",
      "Embedding: [ 0.3043082   0.18374072  1.773273    0.32850876 -0.14961638  1.0655503\n",
      "  1.5567325   0.30895364  0.2585117  -0.02292434 -1.2191778  -0.11834075\n",
      "  0.09931859  0.8053728   1.1849424   0.44961277 -0.21068613 -0.8513134\n",
      " -0.32015172 -0.20306925] ...\n",
      "\n",
      "Sentence: A man is eating food.\n",
      "Embedding shape: (768,)\n",
      "Embedding: [ 0.16618593  0.12440389  1.2497073  -0.53838134 -0.31307387  0.7524601\n",
      " -1.2488308   0.68713653 -0.6588014  -0.794196   -0.1289607   0.88119733\n",
      " -0.22051185  0.24356195  0.8588921  -0.3248815   0.07663598 -0.9614749\n",
      "  0.43711475 -0.25115418] ...\n",
      "\n"
     ]
    }
   ],
   "source": [
    "n = 3\n",
    "\n",
    "for sentence, embedding in zip(sentences[:n], sentence_embeddings_base[:n]):\n",
    "    print(\"Sentence:\", sentence)\n",
    "    print(f\"Embedding shape: {embedding.shape}\")\n",
    "    print(f\"Embedding: {embedding[:20]} ...\")\n",
    "    print(\"\")"
   ]
  },
  {
   "cell_type": "markdown",
   "metadata": {},
   "source": [
    "Each sentence embedding has a shape of [768 x 1]."
   ]
  },
  {
   "cell_type": "markdown",
   "metadata": {
    "id": "MoHQPs5RQk70"
   },
   "source": [
    "## 5. Semantic Search Using Sentence-BERT"
   ]
  },
  {
   "cell_type": "code",
   "execution_count": 17,
   "metadata": {
    "id": "bntpkqIvQf0S"
   },
   "outputs": [],
   "source": [
    "query = 'Nobody has sane thoughts'  #  A query sentence uses for searching semantic similarity score.\n",
    "queries = [query]\n",
    "query_embeddings = model.encode(queries)"
   ]
  },
  {
   "cell_type": "code",
   "execution_count": 18,
   "metadata": {
    "colab": {
     "base_uri": "https://localhost:8080/",
     "height": 53
    },
    "id": "V8ZaHU0OR984",
    "outputId": "1f93a5a1-eb48-4529-af7b-035bcc215301"
   },
   "outputs": [
    {
     "name": "stderr",
     "output_type": "stream",
     "text": [
      "huggingface/tokenizers: The current process just got forked, after parallelism has already been used. Disabling parallelism to avoid deadlocks...\n",
      "To disable this warning, you can either:\n",
      "\t- Avoid using `tokenizers` before the fork if possible\n",
      "\t- Explicitly set the environment variable TOKENIZERS_PARALLELISM=(true | false)\n"
     ]
    },
    {
     "name": "stdout",
     "output_type": "stream",
     "text": [
      "Requirement already satisfied: scipy in /Users/shaypalachy/.pyenv/versions/3.10.2/envs/py3/lib/python3.10/site-packages (1.13.1)\n",
      "Requirement already satisfied: numpy<2.3,>=1.22.4 in /Users/shaypalachy/.pyenv/versions/3.10.2/envs/py3/lib/python3.10/site-packages (from scipy) (1.26.4)\n"
     ]
    }
   ],
   "source": [
    "!pip install scipy\n",
    "import scipy"
   ]
  },
  {
   "cell_type": "code",
   "execution_count": 21,
   "metadata": {},
   "outputs": [],
   "source": [
    "number_top_matches = 5"
   ]
  },
  {
   "cell_type": "code",
   "execution_count": 24,
   "metadata": {
    "colab": {
     "base_uri": "https://localhost:8080/",
     "height": 143
    },
    "id": "VZBrN6ROReys",
    "outputId": "20d12a14-2f25-4fd6-ea6e-592fb3a46bee"
   },
   "outputs": [
    {
     "name": "stdout",
     "output_type": "stream",
     "text": [
      "Query: Nobody has sane thoughts\n",
      "\n",
      "Top 5 most similar sentences in corpus:\n",
      "---------------------------------------\n",
      "Lack of saneness (Cosine Score: 0.8958)\n",
      "Absence of sanity (Cosine Score: 0.8744)\n",
      "A man is riding a horse. (Cosine Score: 0.1705)\n",
      "A monkey is playing drums. (Cosine Score: 0.1687)\n",
      "The girl is carrying a baby. (Cosine Score: 0.1521)\n"
     ]
    }
   ],
   "source": [
    "DATABASE_EMBEDDINGS = sentence_embeddings_base\n",
    "\n",
    "for query, query_embedding in zip(queries, query_embeddings):\n",
    "    distances = scipy.spatial.distance.cdist([query_embedding], DATABASE_EMBEDDINGS, \"cosine\")[0]\n",
    "\n",
    "    results = zip(range(len(distances)), distances)\n",
    "    results = sorted(results, key=lambda x: x[1])\n",
    "    print(\"Query:\", query)\n",
    "    print(\"\\nTop 5 most similar sentences in corpus:\")\n",
    "    print(\"---------------------------------------\")\n",
    "\n",
    "    for idx, distance in results[0:number_top_matches]:\n",
    "        print(sentences[idx].strip(), \"(Cosine Score: %.4f)\" % (1-distance))"
   ]
  },
  {
   "cell_type": "markdown",
   "metadata": {},
   "source": [
    "## 6. Try another model"
   ]
  },
  {
   "cell_type": "code",
   "execution_count": 23,
   "metadata": {},
   "outputs": [
    {
     "data": {
      "application/json": {
       "ascii": false,
       "bar_format": null,
       "colour": null,
       "elapsed": 0.014899253845214844,
       "initial": 0,
       "n": 0,
       "ncols": null,
       "nrows": 43,
       "postfix": null,
       "prefix": "modules.json",
       "rate": null,
       "total": 349,
       "unit": "B",
       "unit_divisor": 1000,
       "unit_scale": true
      },
      "application/vnd.jupyter.widget-view+json": {
       "model_id": "b970c8ac766346b1b486809bdb3807a4",
       "version_major": 2,
       "version_minor": 0
      },
      "text/plain": [
       "modules.json:   0%|          | 0.00/349 [00:00<?, ?B/s]"
      ]
     },
     "metadata": {},
     "output_type": "display_data"
    },
    {
     "data": {
      "application/json": {
       "ascii": false,
       "bar_format": null,
       "colour": null,
       "elapsed": 0.010348081588745117,
       "initial": 0,
       "n": 0,
       "ncols": null,
       "nrows": 43,
       "postfix": null,
       "prefix": "config_sentence_transformers.json",
       "rate": null,
       "total": 116,
       "unit": "B",
       "unit_divisor": 1000,
       "unit_scale": true
      },
      "application/vnd.jupyter.widget-view+json": {
       "model_id": "0b47b2354817444c870644d33653aa0f",
       "version_major": 2,
       "version_minor": 0
      },
      "text/plain": [
       "config_sentence_transformers.json:   0%|          | 0.00/116 [00:00<?, ?B/s]"
      ]
     },
     "metadata": {},
     "output_type": "display_data"
    },
    {
     "data": {
      "application/json": {
       "ascii": false,
       "bar_format": null,
       "colour": null,
       "elapsed": 0.012192010879516602,
       "initial": 0,
       "n": 0,
       "ncols": null,
       "nrows": 43,
       "postfix": null,
       "prefix": "README.md",
       "rate": null,
       "total": 9254,
       "unit": "B",
       "unit_divisor": 1000,
       "unit_scale": true
      },
      "application/vnd.jupyter.widget-view+json": {
       "model_id": "eefa3104eaad445bb12c7116b70eabc4",
       "version_major": 2,
       "version_minor": 0
      },
      "text/plain": [
       "README.md:   0%|          | 0.00/9.25k [00:00<?, ?B/s]"
      ]
     },
     "metadata": {},
     "output_type": "display_data"
    },
    {
     "data": {
      "application/json": {
       "ascii": false,
       "bar_format": null,
       "colour": null,
       "elapsed": 0.00970005989074707,
       "initial": 0,
       "n": 0,
       "ncols": null,
       "nrows": 43,
       "postfix": null,
       "prefix": "sentence_bert_config.json",
       "rate": null,
       "total": 53,
       "unit": "B",
       "unit_divisor": 1000,
       "unit_scale": true
      },
      "application/vnd.jupyter.widget-view+json": {
       "model_id": "ce12f33dc8834066be07292a87802069",
       "version_major": 2,
       "version_minor": 0
      },
      "text/plain": [
       "sentence_bert_config.json:   0%|          | 0.00/53.0 [00:00<?, ?B/s]"
      ]
     },
     "metadata": {},
     "output_type": "display_data"
    },
    {
     "data": {
      "application/json": {
       "ascii": false,
       "bar_format": null,
       "colour": null,
       "elapsed": 0.009232282638549805,
       "initial": 0,
       "n": 0,
       "ncols": null,
       "nrows": 43,
       "postfix": null,
       "prefix": "config.json",
       "rate": null,
       "total": 571,
       "unit": "B",
       "unit_divisor": 1000,
       "unit_scale": true
      },
      "application/vnd.jupyter.widget-view+json": {
       "model_id": "5ee02b6844784484b248b6c0f9ee9e40",
       "version_major": 2,
       "version_minor": 0
      },
      "text/plain": [
       "config.json:   0%|          | 0.00/571 [00:00<?, ?B/s]"
      ]
     },
     "metadata": {},
     "output_type": "display_data"
    },
    {
     "data": {
      "application/json": {
       "ascii": false,
       "bar_format": null,
       "colour": null,
       "elapsed": 0.008974075317382812,
       "initial": 0,
       "n": 0,
       "ncols": null,
       "nrows": 43,
       "postfix": null,
       "prefix": "model.safetensors",
       "rate": null,
       "total": 437971872,
       "unit": "B",
       "unit_divisor": 1000,
       "unit_scale": true
      },
      "application/vnd.jupyter.widget-view+json": {
       "model_id": "27c8557cbd6d46d09c1d623fe22e6263",
       "version_major": 2,
       "version_minor": 0
      },
      "text/plain": [
       "model.safetensors:   0%|          | 0.00/438M [00:00<?, ?B/s]"
      ]
     },
     "metadata": {},
     "output_type": "display_data"
    },
    {
     "data": {
      "application/json": {
       "ascii": false,
       "bar_format": null,
       "colour": null,
       "elapsed": 0.009144067764282227,
       "initial": 0,
       "n": 0,
       "ncols": null,
       "nrows": 43,
       "postfix": null,
       "prefix": "tokenizer_config.json",
       "rate": null,
       "total": 363,
       "unit": "B",
       "unit_divisor": 1000,
       "unit_scale": true
      },
      "application/vnd.jupyter.widget-view+json": {
       "model_id": "ed1c501ef2c944d4879ecc8e67f20b1e",
       "version_major": 2,
       "version_minor": 0
      },
      "text/plain": [
       "tokenizer_config.json:   0%|          | 0.00/363 [00:00<?, ?B/s]"
      ]
     },
     "metadata": {},
     "output_type": "display_data"
    },
    {
     "data": {
      "application/json": {
       "ascii": false,
       "bar_format": null,
       "colour": null,
       "elapsed": 0.011295318603515625,
       "initial": 0,
       "n": 0,
       "ncols": null,
       "nrows": 43,
       "postfix": null,
       "prefix": "vocab.txt",
       "rate": null,
       "total": 231536,
       "unit": "B",
       "unit_divisor": 1000,
       "unit_scale": true
      },
      "application/vnd.jupyter.widget-view+json": {
       "model_id": "aa88e93d102b43209db8996c8c51bbc5",
       "version_major": 2,
       "version_minor": 0
      },
      "text/plain": [
       "vocab.txt:   0%|          | 0.00/232k [00:00<?, ?B/s]"
      ]
     },
     "metadata": {},
     "output_type": "display_data"
    },
    {
     "data": {
      "application/json": {
       "ascii": false,
       "bar_format": null,
       "colour": null,
       "elapsed": 0.012309074401855469,
       "initial": 0,
       "n": 0,
       "ncols": null,
       "nrows": 43,
       "postfix": null,
       "prefix": "tokenizer.json",
       "rate": null,
       "total": 466021,
       "unit": "B",
       "unit_divisor": 1000,
       "unit_scale": true
      },
      "application/vnd.jupyter.widget-view+json": {
       "model_id": "27ead03dbc934ce0adad45c73c5b5bf4",
       "version_major": 2,
       "version_minor": 0
      },
      "text/plain": [
       "tokenizer.json:   0%|          | 0.00/466k [00:00<?, ?B/s]"
      ]
     },
     "metadata": {},
     "output_type": "display_data"
    },
    {
     "data": {
      "application/json": {
       "ascii": false,
       "bar_format": null,
       "colour": null,
       "elapsed": 0.011594057083129883,
       "initial": 0,
       "n": 0,
       "ncols": null,
       "nrows": 43,
       "postfix": null,
       "prefix": "special_tokens_map.json",
       "rate": null,
       "total": 239,
       "unit": "B",
       "unit_divisor": 1000,
       "unit_scale": true
      },
      "application/vnd.jupyter.widget-view+json": {
       "model_id": "2e2ce9fdcc4e4e6aa11c606889dd69b1",
       "version_major": 2,
       "version_minor": 0
      },
      "text/plain": [
       "special_tokens_map.json:   0%|          | 0.00/239 [00:00<?, ?B/s]"
      ]
     },
     "metadata": {},
     "output_type": "display_data"
    },
    {
     "data": {
      "application/json": {
       "ascii": false,
       "bar_format": null,
       "colour": null,
       "elapsed": 0.015347003936767578,
       "initial": 0,
       "n": 0,
       "ncols": null,
       "nrows": 43,
       "postfix": null,
       "prefix": "1_Pooling/config.json",
       "rate": null,
       "total": 190,
       "unit": "B",
       "unit_divisor": 1000,
       "unit_scale": true
      },
      "application/vnd.jupyter.widget-view+json": {
       "model_id": "db71c87c7aa34e049d8b9399e5a5b939",
       "version_major": 2,
       "version_minor": 0
      },
      "text/plain": [
       "1_Pooling/config.json:   0%|          | 0.00/190 [00:00<?, ?B/s]"
      ]
     },
     "metadata": {},
     "output_type": "display_data"
    }
   ],
   "source": [
    "qa_model = SentenceTransformer(\"multi-qa-mpnet-base-cos-v1\")"
   ]
  },
  {
   "cell_type": "code",
   "execution_count": 27,
   "metadata": {},
   "outputs": [],
   "source": [
    "sentence_embeddings_qa = qa_model.encode(sentences)"
   ]
  },
  {
   "cell_type": "code",
   "execution_count": 42,
   "metadata": {},
   "outputs": [
    {
     "data": {
      "text/plain": [
       "[-0.06611297,\n",
       " -0.031156905,\n",
       " -0.017642125,\n",
       " -0.055026677,\n",
       " -0.045368895,\n",
       " -0.0358141,\n",
       " -0.039724793,\n",
       " 0.029961023,\n",
       " -0.013393985,\n",
       " -0.043789636,\n",
       " -0.0762686]"
      ]
     },
     "execution_count": 42,
     "metadata": {},
     "output_type": "execute_result"
    }
   ],
   "source": [
    "list(qa_model.similarity(query_embeddings[0], sentence_embeddings_qa).numpy()[0])"
   ]
  },
  {
   "cell_type": "code",
   "execution_count": 55,
   "metadata": {},
   "outputs": [],
   "source": [
    "query = 'Nobody has sane thoughts'  #  A query sentence uses for searching semantic similarity score.\n",
    "queries = [query]\n",
    "query_embeddings = qa_model.encode(queries)"
   ]
  },
  {
   "cell_type": "code",
   "execution_count": 67,
   "metadata": {},
   "outputs": [],
   "source": [
    "def print_similar_sentences(query, model, sentence_embeddings, top_n):\n",
    "    query_embedding = model.encode(query)\n",
    "    similarities = list(model.similarity(query_embedding, sentence_embeddings).numpy()[0])\n",
    "    similarities = [abs(x) for x in similarities]\n",
    "    results = zip(range(len(similarities)), similarities)\n",
    "    results = sorted(results, key=lambda x: x[1], reverse=True)\n",
    "    # print(results)\n",
    "    print(\"Query:\", query)\n",
    "    print(f\"\\nTop {top_n} most similar sentences in corpus:\")\n",
    "    print(\"---------------------------------------\")\n",
    "    for idx, similarity in results[0:top_n]:\n",
    "        print(f\"{sentences[idx].strip()}, (similarity: {float(similarity):.4f})\")"
   ]
  },
  {
   "cell_type": "code",
   "execution_count": 68,
   "metadata": {},
   "outputs": [
    {
     "name": "stdout",
     "output_type": "stream",
     "text": [
      "Query: Nobody has sane thoughts\n",
      "\n",
      "Top 10 most similar sentences in corpus:\n",
      "---------------------------------------\n",
      "Lack of saneness, (similarity: 0.6855)\n",
      "Absence of sanity, (similarity: 0.5995)\n",
      "A man is riding a horse., (similarity: 0.1522)\n",
      "A man is riding a white horse on an enclosed ground., (similarity: 0.1343)\n",
      "A man is eating a piece of bread., (similarity: 0.1219)\n",
      "A monkey is playing drums., (similarity: 0.1210)\n",
      "A man is eating food., (similarity: 0.1071)\n",
      "Two men pushed carts through the woods., (similarity: 0.0932)\n",
      "A woman is playing violin., (similarity: 0.0927)\n",
      "The girl is carrying a baby., (similarity: 0.0710)\n"
     ]
    }
   ],
   "source": [
    "print_similar_sentences('Nobody has sane thoughts', qa_model, sentence_embeddings_qa, 10)"
   ]
  },
  {
   "cell_type": "code",
   "execution_count": 69,
   "metadata": {},
   "outputs": [
    {
     "name": "stdout",
     "output_type": "stream",
     "text": [
      "Query: A man is riding a cheetah\n",
      "\n",
      "Top 10 most similar sentences in corpus:\n",
      "---------------------------------------\n",
      "A cheetah is running behind its prey., (similarity: 0.7349)\n",
      "A man is riding a horse., (similarity: 0.6730)\n",
      "A man is riding a white horse on an enclosed ground., (similarity: 0.5725)\n",
      "A monkey is playing drums., (similarity: 0.4466)\n",
      "A man is eating food., (similarity: 0.4344)\n",
      "A man is eating a piece of bread., (similarity: 0.4189)\n",
      "Two men pushed carts through the woods., (similarity: 0.4040)\n",
      "A woman is playing violin., (similarity: 0.3539)\n",
      "The girl is carrying a baby., (similarity: 0.3367)\n",
      "Lack of saneness, (similarity: 0.0715)\n"
     ]
    }
   ],
   "source": [
    "print_similar_sentences('A man is riding a cheetah', qa_model, sentence_embeddings_qa, 10)"
   ]
  },
  {
   "cell_type": "code",
   "execution_count": null,
   "metadata": {},
   "outputs": [],
   "source": []
  }
 ],
 "metadata": {
  "colab": {
   "include_colab_link": true,
   "provenance": []
  },
  "kernelspec": {
   "display_name": "Python 3 (ipykernel)",
   "language": "python",
   "name": "python3"
  },
  "language_info": {
   "codemirror_mode": {
    "name": "ipython",
    "version": 3
   },
   "file_extension": ".py",
   "mimetype": "text/x-python",
   "name": "python",
   "nbconvert_exporter": "python",
   "pygments_lexer": "ipython3",
   "version": "3.10.2"
  }
 },
 "nbformat": 4,
 "nbformat_minor": 4
}
